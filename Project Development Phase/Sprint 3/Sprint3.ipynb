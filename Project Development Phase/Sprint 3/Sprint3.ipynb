{
  "nbformat": 4,
  "nbformat_minor": 0,
  "metadata": {
    "colab": {
      "provenance": []
    },
    "kernelspec": {
      "name": "python3",
      "display_name": "Python 3"
    },
    "language_info": {
      "name": "python"
    }
  },
  "cells": [
    {
      "cell_type": "code",
      "execution_count": 1,
      "metadata": {
        "colab": {
          "base_uri": "https://localhost:8080/"
        },
        "id": "nFIOftr_QtAd",
        "outputId": "a2c53fa3-07a3-47cf-bf78-101a95a2a56e"
      },
      "outputs": [
        {
          "output_type": "stream",
          "name": "stdout",
          "text": [
            "Drive already mounted at /content/drive; to attempt to forcibly remount, call drive.mount(\"/content/drive\", force_remount=True).\n"
          ]
        }
      ],
      "source": [
        "from google.colab import drive\n",
        "drive.mount('/content/drive')"
      ]
    },
    {
      "cell_type": "code",
      "source": [
        "#import keras libraries\n",
        "from keras.models import Sequential\n",
        "from keras.layers import Dense\n",
        "from keras.layers import Convolution2D\n",
        "from keras.layers import MaxPooling2D\n",
        "from keras.layers import Flatten  "
      ],
      "metadata": {
        "id": "VrUbJuXgQ0YT"
      },
      "execution_count": 2,
      "outputs": []
    },
    {
      "cell_type": "code",
      "source": [
        "#image preprocessing(or) image augmentation\n",
        "from keras.preprocessing.image import ImageDataGenerator"
      ],
      "metadata": {
        "id": "K6PP4hRQSKxc"
      },
      "execution_count": 3,
      "outputs": []
    },
    {
      "cell_type": "code",
      "source": [
        "train_datagen = ImageDataGenerator(rescale=1./255,shear_range=0.2,zoom_range=0.2,horizontal_flip=True,vertical_flip=True)\n",
        "#rescale => rescaling pixel value from 0 to 255 to 0 to 1\n",
        "#shear_range=> counter clock wise rotation(anti clock)"
      ],
      "metadata": {
        "id": "tLWq824wSMdL"
      },
      "execution_count": 4,
      "outputs": []
    },
    {
      "cell_type": "code",
      "source": [
        "test_datagen = ImageDataGenerator(rescale=1./255)"
      ],
      "metadata": {
        "id": "S5AuXUFkSOCj"
      },
      "execution_count": 5,
      "outputs": []
    },
    {
      "cell_type": "code",
      "source": [
        "x_train = train_datagen.flow_from_directory(\"/content/drive/MyDrive/Sri's IBM project/TRAIN_SET\",target_size=(64,64),batch_size=32,class_mode=\"binary\")"
      ],
      "metadata": {
        "colab": {
          "base_uri": "https://localhost:8080/"
        },
        "id": "EttP6mCISQFS",
        "outputId": "08bfc665-d7f9-48f9-d444-1a2421a79bd1"
      },
      "execution_count": 6,
      "outputs": [
        {
          "output_type": "stream",
          "name": "stdout",
          "text": [
            "Found 2610 images belonging to 5 classes.\n"
          ]
        }
      ]
    },
    {
      "cell_type": "code",
      "source": [
        "x_test = test_datagen.flow_from_directory(\"/content/drive/MyDrive/Sri's IBM project/TEST_SET\",target_size=(64,64),batch_size=32,class_mode=\"binary\")"
      ],
      "metadata": {
        "colab": {
          "base_uri": "https://localhost:8080/"
        },
        "id": "XoP4shLOSYBg",
        "outputId": "4c82c6dd-4322-431f-f952-ebcaf231a446"
      },
      "execution_count": 7,
      "outputs": [
        {
          "output_type": "stream",
          "name": "stdout",
          "text": [
            "Found 1055 images belonging to 5 classes.\n"
          ]
        }
      ]
    },
    {
      "cell_type": "code",
      "source": [
        "x_train.class_indices "
      ],
      "metadata": {
        "colab": {
          "base_uri": "https://localhost:8080/"
        },
        "id": "_KQs4KR_S3BN",
        "outputId": "57563f8e-f598-4f21-892e-9473611df5c1"
      },
      "execution_count": 8,
      "outputs": [
        {
          "output_type": "execute_result",
          "data": {
            "text/plain": [
              "{'APPLES': 0, 'BANANA': 1, 'ORANGE': 2, 'PINEAPPLE': 3, 'WATERMELON': 4}"
            ]
          },
          "metadata": {},
          "execution_count": 8
        }
      ]
    },
    {
      "cell_type": "code",
      "source": [
        "#checking the number of classes\n",
        "print(x_test.class_indices)"
      ],
      "metadata": {
        "colab": {
          "base_uri": "https://localhost:8080/"
        },
        "id": "wSpWDMh8S5Hx",
        "outputId": "48183bf7-8272-442b-c0f7-21e7c312baed"
      },
      "execution_count": 9,
      "outputs": [
        {
          "output_type": "stream",
          "name": "stdout",
          "text": [
            "{'APPLES': 0, 'BANANA': 1, 'ORANGE': 2, 'PINEAPPLE': 3, 'WATERMELON': 4}\n"
          ]
        }
      ]
    },
    {
      "cell_type": "code",
      "source": [
        "from collections import Counter as c\n",
        "c(x_train .labels)"
      ],
      "metadata": {
        "colab": {
          "base_uri": "https://localhost:8080/"
        },
        "id": "-lNCYeyxS6_l",
        "outputId": "efb3ff8d-e656-4540-ee54-6feeafbc7911"
      },
      "execution_count": 10,
      "outputs": [
        {
          "output_type": "execute_result",
          "data": {
            "text/plain": [
              "Counter({0: 606, 1: 445, 2: 479, 3: 621, 4: 459})"
            ]
          },
          "metadata": {},
          "execution_count": 10
        }
      ]
    },
    {
      "cell_type": "code",
      "source": [
        "#Initializing the model\n",
        "model = Sequential()"
      ],
      "metadata": {
        "id": "1uCQoJTkS_HU"
      },
      "execution_count": 11,
      "outputs": []
    },
    {
      "cell_type": "code",
      "source": [
        "# add First convolution layer\n",
        "model.add(Convolution2D(32,(3,3),input_shape=(64,64,3),activation=\"relu\"))\n",
        "# 32 indicates => no of feature detectors\n",
        "#(3,3)=> kernel size (feature detector size)"
      ],
      "metadata": {
        "id": "okebuuY7TBAp"
      },
      "execution_count": 12,
      "outputs": []
    },
    {
      "cell_type": "code",
      "source": [
        "# add Maxpooling layer\n",
        "model.add(MaxPooling2D(pool_size=(2,2)))"
      ],
      "metadata": {
        "id": "Cby13ovMTQBN"
      },
      "execution_count": 13,
      "outputs": []
    },
    {
      "cell_type": "code",
      "source": [
        "#Second convolution layer and pooling\n",
        "model.add(Convolution2D(32,(3,3),activation='relu'))"
      ],
      "metadata": {
        "id": "m5JzMxU6TTNE"
      },
      "execution_count": 14,
      "outputs": []
    },
    {
      "cell_type": "code",
      "source": [
        "model.add(MaxPooling2D(pool_size=(2,2)))\n",
        "#Flattening the layers\n",
        "model.add(Flatten())\n",
        "model.add(Dense(units=128,activation='relu'))\n",
        "model.add(Dense(units=5,activation='softmax'))"
      ],
      "metadata": {
        "id": "cQ3r0P3TTU4W"
      },
      "execution_count": 15,
      "outputs": []
    },
    {
      "cell_type": "code",
      "source": [
        "# add flatten layer => input to your ANN\n",
        "model.add(Flatten())\n",
        "model.summary()"
      ],
      "metadata": {
        "colab": {
          "base_uri": "https://localhost:8080/"
        },
        "id": "nR3eounVTbmP",
        "outputId": "c8e42759-d106-48ea-f9ed-6717470c01b4"
      },
      "execution_count": 16,
      "outputs": [
        {
          "output_type": "stream",
          "name": "stdout",
          "text": [
            "Model: \"sequential\"\n",
            "_________________________________________________________________\n",
            " Layer (type)                Output Shape              Param #   \n",
            "=================================================================\n",
            " conv2d (Conv2D)             (None, 62, 62, 32)        896       \n",
            "                                                                 \n",
            " max_pooling2d (MaxPooling2D  (None, 31, 31, 32)       0         \n",
            " )                                                               \n",
            "                                                                 \n",
            " conv2d_1 (Conv2D)           (None, 29, 29, 32)        9248      \n",
            "                                                                 \n",
            " max_pooling2d_1 (MaxPooling  (None, 14, 14, 32)       0         \n",
            " 2D)                                                             \n",
            "                                                                 \n",
            " flatten (Flatten)           (None, 6272)              0         \n",
            "                                                                 \n",
            " dense (Dense)               (None, 128)               802944    \n",
            "                                                                 \n",
            " dense_1 (Dense)             (None, 5)                 645       \n",
            "                                                                 \n",
            " flatten_1 (Flatten)         (None, 5)                 0         \n",
            "                                                                 \n",
            "=================================================================\n",
            "Total params: 813,733\n",
            "Trainable params: 813,733\n",
            "Non-trainable params: 0\n",
            "_________________________________________________________________\n"
          ]
        }
      ]
    },
    {
      "cell_type": "code",
      "source": [
        "# adding dense layer\n",
        "model.add(Dense(units=300,kernel_initializer=\"random_uniform\",activation=\"relu\"))\n",
        "model.add(Dense(units=200,kernel_initializer=\"random_uniform\",activation=\"relu\"))\n"
      ],
      "metadata": {
        "id": "7U3pSH0tTgEb"
      },
      "execution_count": 17,
      "outputs": []
    },
    {
      "cell_type": "code",
      "source": [
        "#output layer\n",
        "model.add(Dense(units=4,kernel_initializer=\"random_uniform\",activation=\"softmax\"))\n",
        "len(x_train)"
      ],
      "metadata": {
        "colab": {
          "base_uri": "https://localhost:8080/"
        },
        "id": "E8NNXlUKTnjG",
        "outputId": "9a32218a-c17a-4654-edbc-6bad2398f548"
      },
      "execution_count": 18,
      "outputs": [
        {
          "output_type": "execute_result",
          "data": {
            "text/plain": [
              "82"
            ]
          },
          "metadata": {},
          "execution_count": 18
        }
      ]
    },
    {
      "cell_type": "code",
      "source": [
        "#Ann starts so need to add dense layers\n",
        "model.add(Dense(units=128,activation=\"relu\",kernel_initializer=\"random_uniform\"))\n",
        "model.add(Dense(units=1,activation=\"sigmoid\",kernel_initializer=\"random_uniform\"))\n"
      ],
      "metadata": {
        "id": "SHTgHPPZTpgF"
      },
      "execution_count": 19,
      "outputs": []
    },
    {
      "cell_type": "code",
      "source": [
        "#Compile the model\n",
        "model.compile(loss=\"binary_crossentropy\",optimizer=\"adam\",metrics=['accuracy'])"
      ],
      "metadata": {
        "id": "1SnJpkczTzCX"
      },
      "execution_count": 20,
      "outputs": []
    },
    {
      "cell_type": "code",
      "source": [
        "#Train the model\n",
        "model.fit_generator(x_train,steps_per_epoch=len(x_train), validation_data=x_test, validation_steps=len(x_test), epochs= 20)\n"
      ],
      "metadata": {
        "colab": {
          "base_uri": "https://localhost:8080/"
        },
        "id": "gO6nt-GeTziI",
        "outputId": "e0d25b0a-7ef3-4bcc-d282-dc340133b006"
      },
      "execution_count": 21,
      "outputs": [
        {
          "output_type": "stream",
          "name": "stderr",
          "text": [
            "/usr/local/lib/python3.7/dist-packages/ipykernel_launcher.py:2: UserWarning: `Model.fit_generator` is deprecated and will be removed in a future version. Please use `Model.fit`, which supports generators.\n",
            "  \n"
          ]
        },
        {
          "output_type": "stream",
          "name": "stdout",
          "text": [
            "Epoch 1/20\n",
            "82/82 [==============================] - 709s 9s/step - loss: 0.1100 - accuracy: 0.1736 - val_loss: -1.0631 - val_accuracy: 0.2720\n",
            "Epoch 2/20\n",
            "82/82 [==============================] - 24s 291ms/step - loss: -2.8702 - accuracy: 0.1705 - val_loss: -5.4632 - val_accuracy: 0.2720\n",
            "Epoch 3/20\n",
            "82/82 [==============================] - 22s 263ms/step - loss: -8.3526 - accuracy: 0.1705 - val_loss: -12.8106 - val_accuracy: 0.2720\n",
            "Epoch 4/20\n",
            "82/82 [==============================] - 24s 288ms/step - loss: -16.9286 - accuracy: 0.1705 - val_loss: -23.7377 - val_accuracy: 0.2720\n",
            "Epoch 5/20\n",
            "82/82 [==============================] - 22s 263ms/step - loss: -28.8029 - accuracy: 0.1705 - val_loss: -37.9295 - val_accuracy: 0.2720\n",
            "Epoch 6/20\n",
            "82/82 [==============================] - 23s 283ms/step - loss: -44.0002 - accuracy: 0.1705 - val_loss: -55.4858 - val_accuracy: 0.2720\n",
            "Epoch 7/20\n",
            "82/82 [==============================] - 22s 264ms/step - loss: -62.2679 - accuracy: 0.1705 - val_loss: -76.4685 - val_accuracy: 0.2720\n",
            "Epoch 8/20\n",
            "82/82 [==============================] - 24s 286ms/step - loss: -83.5602 - accuracy: 0.1705 - val_loss: -100.6702 - val_accuracy: 0.2720\n",
            "Epoch 9/20\n",
            "82/82 [==============================] - 22s 263ms/step - loss: -107.7657 - accuracy: 0.1705 - val_loss: -127.5378 - val_accuracy: 0.2720\n",
            "Epoch 10/20\n",
            "82/82 [==============================] - 21s 256ms/step - loss: -134.6819 - accuracy: 0.1705 - val_loss: -157.5612 - val_accuracy: 0.2720\n",
            "Epoch 11/20\n",
            "82/82 [==============================] - 21s 259ms/step - loss: -164.3762 - accuracy: 0.1705 - val_loss: -189.9892 - val_accuracy: 0.2720\n",
            "Epoch 12/20\n",
            "82/82 [==============================] - 24s 292ms/step - loss: -196.3868 - accuracy: 0.1705 - val_loss: -225.3566 - val_accuracy: 0.2720\n",
            "Epoch 13/20\n",
            "82/82 [==============================] - 22s 265ms/step - loss: -231.1082 - accuracy: 0.1705 - val_loss: -263.1507 - val_accuracy: 0.2720\n",
            "Epoch 14/20\n",
            "82/82 [==============================] - 22s 263ms/step - loss: -268.2429 - accuracy: 0.1705 - val_loss: -303.4585 - val_accuracy: 0.2720\n",
            "Epoch 15/20\n",
            "82/82 [==============================] - 23s 281ms/step - loss: -308.0174 - accuracy: 0.1705 - val_loss: -346.0775 - val_accuracy: 0.2720\n",
            "Epoch 16/20\n",
            "82/82 [==============================] - 23s 282ms/step - loss: -349.9594 - accuracy: 0.1705 - val_loss: -391.5709 - val_accuracy: 0.2720\n",
            "Epoch 17/20\n",
            "82/82 [==============================] - 22s 262ms/step - loss: -394.0731 - accuracy: 0.1705 - val_loss: -439.8262 - val_accuracy: 0.2720\n",
            "Epoch 18/20\n",
            "82/82 [==============================] - 24s 287ms/step - loss: -440.4055 - accuracy: 0.1705 - val_loss: -490.0305 - val_accuracy: 0.2720\n",
            "Epoch 19/20\n",
            "82/82 [==============================] - 21s 261ms/step - loss: -488.8996 - accuracy: 0.1705 - val_loss: -542.3229 - val_accuracy: 0.2720\n",
            "Epoch 20/20\n",
            "82/82 [==============================] - 23s 283ms/step - loss: -539.4619 - accuracy: 0.1705 - val_loss: -596.2834 - val_accuracy: 0.2720\n"
          ]
        },
        {
          "output_type": "execute_result",
          "data": {
            "text/plain": [
              "<keras.callbacks.History at 0x7fe0d50b2590>"
            ]
          },
          "metadata": {},
          "execution_count": 21
        }
      ]
    },
    {
      "cell_type": "code",
      "source": [
        "model.save(\"nutrition.h5\")"
      ],
      "metadata": {
        "id": "q8rm_y5ST3sZ"
      },
      "execution_count": 22,
      "outputs": []
    },
    {
      "cell_type": "code",
      "source": [
        "#Prediction the result\n",
        "from tensorflow.keras.models import load_model\n",
        "from keras.preprocessing  import image\n",
        "# model =load_model(\"nutrition.h5\")"
      ],
      "metadata": {
        "id": "wdbpOPOGT_mF"
      },
      "execution_count": 23,
      "outputs": []
    },
    {
      "cell_type": "code",
      "source": [
        "import numpy as np\n",
        "from tensorflow.keras.utils import load_img\n",
        "from tensorflow.keras.utils import img_to_array\n",
        "#loading of the image\n",
        "img = load_img(r'/content/drive/MyDrive/Apple.jpg', grayscale=False,target_size=(64,64))\n",
        "#image to array \n",
        "x = img_to_array(img)\n",
        "#changing the shape\n",
        "x= np.expand_dims(x,axis = 0)\n",
        "predict_x=model.predict(x)\n",
        "classes_x=np.argmax(predict_x,axis = -1)\n",
        "classes_x"
      ],
      "metadata": {
        "colab": {
          "base_uri": "https://localhost:8080/"
        },
        "id": "GTp-EjRyUEhE",
        "outputId": "2e97f3e5-c8f5-46d2-c5ef-37d2f5c3f7d0"
      },
      "execution_count": 29,
      "outputs": [
        {
          "output_type": "stream",
          "name": "stdout",
          "text": [
            "1/1 [==============================] - 0s 19ms/step\n"
          ]
        },
        {
          "output_type": "execute_result",
          "data": {
            "text/plain": [
              "array([0])"
            ]
          },
          "metadata": {},
          "execution_count": 29
        }
      ]
    },
    {
      "cell_type": "code",
      "source": [
        "index=['APPLES', 'BANANA', 'ORANGE', 'PINEAPPLE', 'WATERMELON']\n",
        "result=str(index[classes_x[0]])\n",
        "result"
      ],
      "metadata": {
        "colab": {
          "base_uri": "https://localhost:8080/",
          "height": 35
        },
        "id": "E8jE8c0vUkth",
        "outputId": "3c851c74-867e-47cb-b2f8-9517ca40084b"
      },
      "execution_count": 30,
      "outputs": [
        {
          "output_type": "execute_result",
          "data": {
            "text/plain": [
              "'APPLES'"
            ],
            "application/vnd.google.colaboratory.intrinsic+json": {
              "type": "string"
            }
          },
          "metadata": {},
          "execution_count": 30
        }
      ]
    }
  ]
}